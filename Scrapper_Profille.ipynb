{
 "cells": [
  {
   "cell_type": "code",
   "execution_count": 3,
   "metadata": {},
   "outputs": [],
   "source": [
    "from selenium import webdriver\n",
    "from bs4 import BeautifulSoup\n",
    "from selenium.webdriver.common.keys import Keys\n",
    "\n",
    "import requests\n",
    "import pandas as pd\n",
    "import time"
   ]
  },
  {
   "cell_type": "code",
   "execution_count": 4,
   "metadata": {},
   "outputs": [
    {
     "data": {
      "text/plain": [
       "['cafebacacanarisla',\n",
       " 'mojumojuid',\n",
       " 'serujukcoffee',\n",
       " 'thetower_space',\n",
       " 'solokopi']"
      ]
     },
     "execution_count": 4,
     "metadata": {},
     "output_type": "execute_result"
    }
   ],
   "source": [
    "base_url = 'https://www.instagram.com/'\n",
    "ig = ['cafebacacanarisla','mojumojuid','serujukcoffee','thetower_space','solokopi']\n",
    "ig"
   ]
  },
  {
   "cell_type": "code",
   "execution_count": 24,
   "metadata": {},
   "outputs": [],
   "source": [
    "\n",
    "def get_profile(target_id):\n",
    "    browser = webdriver.Chrome()\n",
    "    url_target = base_url + target_id\n",
    "    browser.get(url_target)\n",
    "    html = browser.page_source\n",
    "    return html\n"
   ]
  },
  {
   "cell_type": "code",
   "execution_count": 25,
   "metadata": {},
   "outputs": [
    {
     "name": "stdout",
     "output_type": "stream",
     "text": [
      "mojumojuid 62 610 0 MOJU MOJU® ARTISAN DRINKSLet Your Story Completes Us#keluargamojuBuka setiap hariPkl 10:00 - 24:00 www.mojumoju.id\n"
     ]
    }
   ],
   "source": [
    "soup = BeautifulSoup(html,'html.parser')\n",
    "## Instagram ID\n",
    "ig_id = soup.find('h2', attrs={\"class\": \"_7UhW9 fKFbl yUEEX KV-D4 fDxYl\"})\n",
    "ig_id = ig_id.get_text()\n",
    "## Post\n",
    "post = soup.find('a', attrs={\"href\": \"/accounts/login/?next=%2Fmojumojuid%2F&source=profile_posts\"})\n",
    "post = post.find('span')\n",
    "post = post.get_text()\n",
    "## Followers\n",
    "followers = soup.find('a', attrs={\"href\": \"/accounts/login/?next=%2Fmojumojuid%2Ffollowers%2F&source=followed_by_list\"})\n",
    "followers = followers.find('span')\n",
    "followers = followers.get_text()\n",
    "## Followings\n",
    "followings = soup.find('a', attrs={\"href\": \"/accounts/login/?next=%2Fmojumojuid%2Ffollowing%2F&source=follows_list\"})\n",
    "followings = followings.find('span')\n",
    "followings = followings.get_text()\n",
    "## Description\n",
    "description = soup.find('div', attrs={\"class\": \"-vDIg\"})\n",
    "description = description.get_text()\n",
    "\n",
    "\n",
    "print(ig_id,post,followers,followings,description)"
   ]
  },
  {
   "cell_type": "markdown",
   "metadata": {},
   "source": [
    "## Scrap Data"
   ]
  },
  {
   "cell_type": "code",
   "execution_count": 5,
   "metadata": {},
   "outputs": [],
   "source": [
    "def scrap_profile(id_list):\n",
    "    profile_list = []\n",
    "    browser = webdriver.Chrome()\n",
    "    for id in id_list:\n",
    "        url_target = base_url + id\n",
    "        browser.get(url_target)\n",
    "        html = browser.page_source\n",
    "\n",
    "        soup = BeautifulSoup(html,'html.parser')\n",
    "        ## Instagram ID\n",
    "        ig_id = soup.find('h2', attrs={\"class\": \"_7UhW9 fKFbl yUEEX KV-D4 fDxYl\"})\n",
    "        ig_id = ig_id.get_text()\n",
    "        ## Post\n",
    "        post = soup.find('a', attrs={\"href\": \"/accounts/login/?next=%2F\"+ id +\"%2F&source=profile_posts\"})\n",
    "        post = post.find('span')\n",
    "        post = post.get_text()\n",
    "        ## Followers\n",
    "        followers = soup.find('a', attrs={\"href\": \"/accounts/login/?next=%2F\"+ id +\"%2Ffollowers%2F&source=followed_by_list\"})\n",
    "        followers = followers.find('span')\n",
    "        followers = followers.get_text()\n",
    "        ## Followings\n",
    "        followings = soup.find('a', attrs={\"href\": \"/accounts/login/?next=%2F\"+ id +\"%2Ffollowing%2F&source=follows_list\"})\n",
    "        followings = followings.find('span')\n",
    "        followings = followings.get_text()\n",
    "        ## Description\n",
    "        description = soup.find('div', attrs={\"class\": \"-vDIg\"})\n",
    "        description = description.get_text()\n",
    "        \n",
    "        result = [ig_id,post,followers,followings,description]\n",
    "        profile_list.append(result)\n",
    "    df = pd.DataFrame(profile_list)\n",
    "    return df"
   ]
  },
  {
   "cell_type": "code",
   "execution_count": 6,
   "metadata": {},
   "outputs": [
    {
     "data": {
      "text/html": [
       "<div>\n",
       "<style scoped>\n",
       "    .dataframe tbody tr th:only-of-type {\n",
       "        vertical-align: middle;\n",
       "    }\n",
       "\n",
       "    .dataframe tbody tr th {\n",
       "        vertical-align: top;\n",
       "    }\n",
       "\n",
       "    .dataframe thead th {\n",
       "        text-align: right;\n",
       "    }\n",
       "</style>\n",
       "<table border=\"1\" class=\"dataframe\">\n",
       "  <thead>\n",
       "    <tr style=\"text-align: right;\">\n",
       "      <th></th>\n",
       "      <th>id</th>\n",
       "      <th>post</th>\n",
       "      <th>followers</th>\n",
       "      <th>following</th>\n",
       "      <th>description</th>\n",
       "    </tr>\n",
       "  </thead>\n",
       "  <tbody>\n",
       "    <tr>\n",
       "      <td>0</td>\n",
       "      <td>cafebacacanarisla</td>\n",
       "      <td>47</td>\n",
       "      <td>1,236</td>\n",
       "      <td>412</td>\n",
       "      <td>Cafe Baca Canarisla-Daily Open : 📅 Senin - Min...</td>\n",
       "    </tr>\n",
       "    <tr>\n",
       "      <td>1</td>\n",
       "      <td>mojumojuid</td>\n",
       "      <td>62</td>\n",
       "      <td>610</td>\n",
       "      <td>0</td>\n",
       "      <td>MOJU MOJU® ARTISAN DRINKSLet Your Story Comple...</td>\n",
       "    </tr>\n",
       "    <tr>\n",
       "      <td>2</td>\n",
       "      <td>serujukcoffee</td>\n",
       "      <td>43</td>\n",
       "      <td>605</td>\n",
       "      <td>19</td>\n",
       "      <td>Serujuk Coffee &amp; Work\"Segelas Kopi Untuk Kawan...</td>\n",
       "    </tr>\n",
       "    <tr>\n",
       "      <td>3</td>\n",
       "      <td>thetower_space</td>\n",
       "      <td>310</td>\n",
       "      <td>1,445</td>\n",
       "      <td>117</td>\n",
       "      <td>The Tower SpaceOPEN DAILY⌛️ Monday-Friday 10.0...</td>\n",
       "    </tr>\n",
       "    <tr>\n",
       "      <td>4</td>\n",
       "      <td>solokopi</td>\n",
       "      <td>211</td>\n",
       "      <td>2,711</td>\n",
       "      <td>173</td>\n",
       "      <td>SOLOKOPI☕️: Brewing Every Day ⌚️: 09.00 - 23.0...</td>\n",
       "    </tr>\n",
       "  </tbody>\n",
       "</table>\n",
       "</div>"
      ],
      "text/plain": [
       "                  id post followers following  \\\n",
       "0  cafebacacanarisla   47     1,236       412   \n",
       "1         mojumojuid   62       610         0   \n",
       "2      serujukcoffee   43       605        19   \n",
       "3     thetower_space  310     1,445       117   \n",
       "4           solokopi  211     2,711       173   \n",
       "\n",
       "                                         description  \n",
       "0  Cafe Baca Canarisla-Daily Open : 📅 Senin - Min...  \n",
       "1  MOJU MOJU® ARTISAN DRINKSLet Your Story Comple...  \n",
       "2  Serujuk Coffee & Work\"Segelas Kopi Untuk Kawan...  \n",
       "3  The Tower SpaceOPEN DAILY⌛️ Monday-Friday 10.0...  \n",
       "4  SOLOKOPI☕️: Brewing Every Day ⌚️: 09.00 - 23.0...  "
      ]
     },
     "execution_count": 6,
     "metadata": {},
     "output_type": "execute_result"
    }
   ],
   "source": [
    "csv = scrap_profile(ig)\n",
    "csv.columns = ['id','post','followers','following','description']\n",
    "csv"
   ]
  },
  {
   "cell_type": "code",
   "execution_count": 8,
   "metadata": {},
   "outputs": [],
   "source": [
    "csv.to_csv(r'dataset/profile-list.csv', index = False)"
   ]
  }
 ],
 "metadata": {
  "kernelspec": {
   "display_name": "Python 3",
   "language": "python",
   "name": "python3"
  },
  "language_info": {
   "codemirror_mode": {
    "name": "ipython",
    "version": 3
   },
   "file_extension": ".py",
   "mimetype": "text/x-python",
   "name": "python",
   "nbconvert_exporter": "python",
   "pygments_lexer": "ipython3",
   "version": "3.7.4"
  }
 },
 "nbformat": 4,
 "nbformat_minor": 2
}
